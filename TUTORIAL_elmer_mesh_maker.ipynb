{
 "cells": [
  {
   "cell_type": "markdown",
   "metadata": {},
   "source": [
    "# Create a mesh with labeled boundaries for ElmerIce\n",
    "\n",
    "This module makes 2D meshes of different resolutions for ElmerIce, with customised labeled boundaries.  ElmerIce will extrude the mesh into 3D.\n",
    "\n",
    "\n",
    "### Required python modules:\n",
    "\n",
    "* meshio\n",
    "* pygmsh\n",
    "* shapely\n",
    "* geopandas \n",
    "* fiona \n",
    "* matplotlib\n",
    "* numpy\n",
    "* os\n",
    "\n",
    "\n",
    "## Process:\n",
    "\n",
    "**Making a mesh**\n",
    "1. Load mesh maker package\n",
    "2. Load glacier perimeter file\n",
    "3. Make 1D perimeters with different resolutions (grid spacing)\n",
    "4. (optional) Export the new resolution perimeters.\n",
    "5. Make 2D meshes for all set resolutions\n",
    "6. Use ElmerGrid to make the meshes suitable for Elmer\n",
    "\n",
    "**Labeling the boundaries**\n",
    "\n",
    "1. Set the glacier corners\n",
    "2. Label the glacier boundaries for ElmerIce to read\n",
    "\n",
    "------------------------------------------------------------------\n",
    "\n",
    "\n",
    "# Making a mesh\n",
    "\n",
    "## 1. Load mesh maker package"
   ]
  },
  {
   "cell_type": "code",
   "execution_count": null,
   "metadata": {},
   "outputs": [],
   "source": [
    "import os\n",
    "import sys\n",
    "\n",
    "#location of elmer_mesh_maker package\n",
    "package_location = 'elmer_mesh_maker'\n",
    "sys.path.append(os.getcwd())\n",
    "\n",
    "import elmer_mesh_maker as el"
   ]
  },
  {
   "cell_type": "markdown",
   "metadata": {},
   "source": [
    "## 2. Load input glacier perimeter"
   ]
  },
  {
   "cell_type": "code",
   "execution_count": null,
   "metadata": {},
   "outputs": [],
   "source": [
    "#create mesh object\n",
    "msh = el.mesh() \n",
    "\n",
    "#change directory to a folder to read perimeter file from and write meshes to\n",
    "folder = '/example_perimeter' \n",
    "os.chdir(os.getcwd()+folder)\n",
    "\n",
    "perimeter_file = 'brewster.shp'\n",
    "\n",
    "msh.load_perimeter(perimeter_file)"
   ]
  },
  {
   "cell_type": "markdown",
   "metadata": {},
   "source": [
    "## 3. Make perimeters with different resolutions (grid spacing)\n",
    "The mesh maker gmsh works by taking a 1D perimeter and extrapolating a 2D mesh. The point spacing in the perimeter will determine the point spacing of the mesh.\n",
    "\n",
    "First set resolutions, then make the perimeters"
   ]
  },
  {
   "cell_type": "code",
   "execution_count": null,
   "metadata": {},
   "outputs": [],
   "source": [
    "msh.set_resolutions([50,100,200,300]) #units are the same as input perimeter coordinates\n",
    "\n",
    "msh.make_perimeters_newres()\n",
    "\n",
    "#put the index of the resolution you wish to plot\n",
    "msh.plot(0)"
   ]
  },
  {
   "cell_type": "code",
   "execution_count": null,
   "metadata": {},
   "outputs": [],
   "source": [
    "msh.plot(3)"
   ]
  },
  {
   "cell_type": "markdown",
   "metadata": {},
   "source": [
    "## 4. (optional) Export the new resolution perimeters."
   ]
  },
  {
   "cell_type": "code",
   "execution_count": null,
   "metadata": {},
   "outputs": [],
   "source": [
    "msh.export()"
   ]
  },
  {
   "cell_type": "markdown",
   "metadata": {},
   "source": [
    "## 5. Make meshes for all set resolutions\n",
    "\n",
    "make_meshes() uses pygmsh and meshio which use gmsh to make the meshes in a gmsh .msh format. \n",
    "\n",
    ".geo and .vtu formats are also saved. .vtu can be viewed in the software paraview"
   ]
  },
  {
   "cell_type": "code",
   "execution_count": null,
   "metadata": {},
   "outputs": [],
   "source": [
    "msh.make_meshes()"
   ]
  },
  {
   "cell_type": "markdown",
   "metadata": {},
   "source": [
    "## 6. Use ElmerGrid to make the meshes suitable for Elmer\n",
    "\n",
    "Use the following cell to make a command you can copy and paste into the bash shell to run ElmerGrid over the meshes. \n",
    "\n",
    "ElmerGrid to modifys the mesh to an Elmer format. More info [here](http://www.elmerfem.org/blog/preprocess/mesh-generation-software-used-with-elmer/)\n",
    "\n",
    "Alternatively put ```msh.print_elmergrid_command('script') ``` to print a bash script to file which will run the same command."
   ]
  },
  {
   "cell_type": "code",
   "execution_count": null,
   "metadata": {
    "scrolled": true
   },
   "outputs": [],
   "source": [
    "msh.print_elmergrid_command()        "
   ]
  },
  {
   "cell_type": "markdown",
   "metadata": {},
   "source": [
    "List all the mesh names. The Elmer-ready meshes show up as a folder with mesh.boundary mesh.header mesh.node and mesh.elements files."
   ]
  },
  {
   "cell_type": "code",
   "execution_count": null,
   "metadata": {},
   "outputs": [],
   "source": [
    "msh.output_filenames"
   ]
  },
  {
   "cell_type": "markdown",
   "metadata": {},
   "source": [
    "# Labeling the mesh boundaries\n",
    "\n",
    "To use ElmerIce, the mesh must have labeled boundaries. ElmerGrid automatically labels the boundaries, but you may want them in separate places.\n",
    "\n",
    "## 1. Set coordinates for the corners\n",
    "'Corners' are points which separate the desired boundaries."
   ]
  },
  {
   "cell_type": "code",
   "execution_count": null,
   "metadata": {},
   "outputs": [],
   "source": [
    "msh.set_corners([(1314274.9987104018, 5112882.022700516),\n",
    " (1314266.9226336845, 5113679.104938047),\n",
    " (1315070.9465903954, 5114035.080386854),\n",
    " (1314553.726167038, 5112929.071662091)])"
   ]
  },
  {
   "cell_type": "markdown",
   "metadata": {},
   "source": [
    "### OR\n",
    "If you cant be arsed opening a map to find the coordinates, use the following command to find the corner coordinates by guessing and checking the corner point indicies"
   ]
  },
  {
   "cell_type": "code",
   "execution_count": null,
   "metadata": {},
   "outputs": [],
   "source": [
    "msh.find_corners([4,46,614,680])\n",
    "msh.found_corners\n",
    "msh.set_corners()"
   ]
  },
  {
   "cell_type": "markdown",
   "metadata": {},
   "source": [
    "## 2. Label the glacier boundaries for ElmerIce to read\n",
    "Input a list of integers"
   ]
  },
  {
   "cell_type": "code",
   "execution_count": null,
   "metadata": {},
   "outputs": [],
   "source": [
    "msh.label_boundaries([2,3,1,3])"
   ]
  },
  {
   "cell_type": "markdown",
   "metadata": {},
   "source": [
    "Here, I wanted the walls to both be 3, the glacier head one, and the terminus 2.\n",
    "\n",
    "Plot the boundaries to check that corners and labels are in the right place for different resolutions."
   ]
  },
  {
   "cell_type": "code",
   "execution_count": null,
   "metadata": {},
   "outputs": [],
   "source": [
    "msh.plot_boundaries(0)"
   ]
  },
  {
   "cell_type": "code",
   "execution_count": null,
   "metadata": {},
   "outputs": [],
   "source": [
    "msh.plot_boundaries(3)"
   ]
  },
  {
   "cell_type": "markdown",
   "metadata": {},
   "source": [
    "# END\n",
    "The mesh is ready for elmer\n",
    "\n",
    "To visualise the mesh, open ElmerGUI and load the mesh folder. Select View -> Numbering -> Boundary Index to check the boundary labeling is right"
   ]
  },
  {
   "cell_type": "markdown",
   "metadata": {},
   "source": [
    "### Other useful commands:"
   ]
  },
  {
   "cell_type": "code",
   "execution_count": null,
   "metadata": {},
   "outputs": [],
   "source": [
    "msh.perimeter #the shapely linestring of input perimeter"
   ]
  },
  {
   "cell_type": "code",
   "execution_count": null,
   "metadata": {},
   "outputs": [],
   "source": [
    "msh.perimeters_newres  # a list of the shapely linestrings of set resolution perimeters eg:\n",
    "msh.perimeters_newres[3]"
   ]
  },
  {
   "cell_type": "code",
   "execution_count": null,
   "metadata": {},
   "outputs": [],
   "source": [
    "msh.found_corners #the coordinates of corners found with find_corners()"
   ]
  },
  {
   "cell_type": "code",
   "execution_count": null,
   "metadata": {},
   "outputs": [],
   "source": []
  }
 ],
 "metadata": {
  "kernelspec": {
   "display_name": "Python 3",
   "language": "python",
   "name": "python3"
  },
  "language_info": {
   "codemirror_mode": {
    "name": "ipython",
    "version": 3
   },
   "file_extension": ".py",
   "mimetype": "text/x-python",
   "name": "python",
   "nbconvert_exporter": "python",
   "pygments_lexer": "ipython3",
   "version": "3.6.7"
  }
 },
 "nbformat": 4,
 "nbformat_minor": 2
}
